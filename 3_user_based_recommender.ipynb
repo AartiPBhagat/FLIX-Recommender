{
 "cells": [
  {
   "cell_type": "markdown",
   "id": "c83b8ab6-6f6f-43cc-a782-7bc6dc708e0c",
   "metadata": {},
   "source": [
    "## Import Modules & Data"
   ]
  },
  {
   "cell_type": "code",
   "execution_count": 1,
   "id": "585e6463-71f7-472b-95b4-c1fa1e9f5ddf",
   "metadata": {
    "tags": []
   },
   "outputs": [],
   "source": [
    "import pandas as pd"
   ]
  },
  {
   "cell_type": "code",
   "execution_count": 74,
   "id": "9b5625f5-88d8-4d9f-93e8-fd5f124247f0",
   "metadata": {
    "tags": []
   },
   "outputs": [],
   "source": [
    "movies_df = pd.read_csv('data/movies.csv')\n",
    "ratings_df = pd.read_csv('data/ratings.csv')\n",
    "tags_df = pd.read_csv('data/tags.csv')\n",
    "links_df = pd.read_csv('data/links.csv')"
   ]
  },
  {
   "cell_type": "code",
   "execution_count": 44,
   "id": "c44a9f16-93e8-4cd0-9064-420e951a3c9b",
   "metadata": {
    "tags": []
   },
   "outputs": [
    {
     "data": {
      "text/html": [
       "<div>\n",
       "<style scoped>\n",
       "    .dataframe tbody tr th:only-of-type {\n",
       "        vertical-align: middle;\n",
       "    }\n",
       "\n",
       "    .dataframe tbody tr th {\n",
       "        vertical-align: top;\n",
       "    }\n",
       "\n",
       "    .dataframe thead th {\n",
       "        text-align: right;\n",
       "    }\n",
       "</style>\n",
       "<table border=\"1\" class=\"dataframe\">\n",
       "  <thead>\n",
       "    <tr style=\"text-align: right;\">\n",
       "      <th></th>\n",
       "      <th>movieId</th>\n",
       "      <th>title</th>\n",
       "      <th>genres</th>\n",
       "    </tr>\n",
       "  </thead>\n",
       "  <tbody>\n",
       "    <tr>\n",
       "      <th>0</th>\n",
       "      <td>1</td>\n",
       "      <td>Toy Story (1995)</td>\n",
       "      <td>Adventure|Animation|Children|Comedy|Fantasy</td>\n",
       "    </tr>\n",
       "    <tr>\n",
       "      <th>1</th>\n",
       "      <td>2</td>\n",
       "      <td>Jumanji (1995)</td>\n",
       "      <td>Adventure|Children|Fantasy</td>\n",
       "    </tr>\n",
       "    <tr>\n",
       "      <th>2</th>\n",
       "      <td>3</td>\n",
       "      <td>Grumpier Old Men (1995)</td>\n",
       "      <td>Comedy|Romance</td>\n",
       "    </tr>\n",
       "    <tr>\n",
       "      <th>3</th>\n",
       "      <td>4</td>\n",
       "      <td>Waiting to Exhale (1995)</td>\n",
       "      <td>Comedy|Drama|Romance</td>\n",
       "    </tr>\n",
       "    <tr>\n",
       "      <th>4</th>\n",
       "      <td>5</td>\n",
       "      <td>Father of the Bride Part II (1995)</td>\n",
       "      <td>Comedy</td>\n",
       "    </tr>\n",
       "    <tr>\n",
       "      <th>...</th>\n",
       "      <td>...</td>\n",
       "      <td>...</td>\n",
       "      <td>...</td>\n",
       "    </tr>\n",
       "    <tr>\n",
       "      <th>9737</th>\n",
       "      <td>193581</td>\n",
       "      <td>Black Butler: Book of the Atlantic (2017)</td>\n",
       "      <td>Action|Animation|Comedy|Fantasy</td>\n",
       "    </tr>\n",
       "    <tr>\n",
       "      <th>9738</th>\n",
       "      <td>193583</td>\n",
       "      <td>No Game No Life: Zero (2017)</td>\n",
       "      <td>Animation|Comedy|Fantasy</td>\n",
       "    </tr>\n",
       "    <tr>\n",
       "      <th>9739</th>\n",
       "      <td>193585</td>\n",
       "      <td>Flint (2017)</td>\n",
       "      <td>Drama</td>\n",
       "    </tr>\n",
       "    <tr>\n",
       "      <th>9740</th>\n",
       "      <td>193587</td>\n",
       "      <td>Bungo Stray Dogs: Dead Apple (2018)</td>\n",
       "      <td>Action|Animation</td>\n",
       "    </tr>\n",
       "    <tr>\n",
       "      <th>9741</th>\n",
       "      <td>193609</td>\n",
       "      <td>Andrew Dice Clay: Dice Rules (1991)</td>\n",
       "      <td>Comedy</td>\n",
       "    </tr>\n",
       "  </tbody>\n",
       "</table>\n",
       "<p>9742 rows × 3 columns</p>\n",
       "</div>"
      ],
      "text/plain": [
       "      movieId                                      title  \\\n",
       "0           1                           Toy Story (1995)   \n",
       "1           2                             Jumanji (1995)   \n",
       "2           3                    Grumpier Old Men (1995)   \n",
       "3           4                   Waiting to Exhale (1995)   \n",
       "4           5         Father of the Bride Part II (1995)   \n",
       "...       ...                                        ...   \n",
       "9737   193581  Black Butler: Book of the Atlantic (2017)   \n",
       "9738   193583               No Game No Life: Zero (2017)   \n",
       "9739   193585                               Flint (2017)   \n",
       "9740   193587        Bungo Stray Dogs: Dead Apple (2018)   \n",
       "9741   193609        Andrew Dice Clay: Dice Rules (1991)   \n",
       "\n",
       "                                           genres  \n",
       "0     Adventure|Animation|Children|Comedy|Fantasy  \n",
       "1                      Adventure|Children|Fantasy  \n",
       "2                                  Comedy|Romance  \n",
       "3                            Comedy|Drama|Romance  \n",
       "4                                          Comedy  \n",
       "...                                           ...  \n",
       "9737              Action|Animation|Comedy|Fantasy  \n",
       "9738                     Animation|Comedy|Fantasy  \n",
       "9739                                        Drama  \n",
       "9740                             Action|Animation  \n",
       "9741                                       Comedy  \n",
       "\n",
       "[9742 rows x 3 columns]"
      ]
     },
     "execution_count": 44,
     "metadata": {},
     "output_type": "execute_result"
    }
   ],
   "source": [
    "movies_df"
   ]
  },
  {
   "cell_type": "markdown",
   "id": "dc27957a-6a9b-47f4-ba95-5c0e44ea33fc",
   "metadata": {},
   "source": [
    "## Prepare data for `surprise` from sklearn"
   ]
  },
  {
   "cell_type": "code",
   "execution_count": 3,
   "id": "27f1e51c-29d9-4736-9a98-5281bf7d8280",
   "metadata": {
    "tags": []
   },
   "outputs": [],
   "source": [
    "#%%capture\n",
    "#pip install scikit-surprise"
   ]
  },
  {
   "cell_type": "code",
   "execution_count": 4,
   "id": "2dacbc17-b191-4557-b928-9f46182cf51d",
   "metadata": {
    "tags": []
   },
   "outputs": [],
   "source": [
    "from surprise import Reader, Dataset, KNNBasic, accuracy\n",
    "from surprise.model_selection import train_test_split"
   ]
  },
  {
   "cell_type": "code",
   "execution_count": 5,
   "id": "776f4c64-8e2b-464f-b544-d546822159be",
   "metadata": {
    "tags": []
   },
   "outputs": [
    {
     "data": {
      "text/plain": [
       "Index(['userId', 'movieId', 'rating', 'timestamp'], dtype='object')"
      ]
     },
     "execution_count": 5,
     "metadata": {},
     "output_type": "execute_result"
    }
   ],
   "source": [
    "ratings_df.columns"
   ]
  },
  {
   "cell_type": "code",
   "execution_count": 49,
   "id": "fd0cb285-a58d-4974-ac0d-1a353daf5b12",
   "metadata": {
    "tags": []
   },
   "outputs": [],
   "source": [
    "data = ratings_df[['userId', 'movieId', 'rating']]\n",
    "\n",
    "\n",
    "# create surprise dataset\n",
    "reader = Reader(rating_scale=(0, 5))\n",
    "data = Dataset.load_from_df(data, reader)"
   ]
  },
  {
   "cell_type": "code",
   "execution_count": 50,
   "id": "2146f190-63b0-40d2-b157-111880e01366",
   "metadata": {
    "tags": []
   },
   "outputs": [],
   "source": [
    "# split data\n",
    "trainset, testset = train_test_split(data, test_size=0.2, random_state=142)"
   ]
  },
  {
   "cell_type": "markdown",
   "id": "dc8fdee7-2c4e-4ef1-afc5-82db1ac52c25",
   "metadata": {},
   "source": [
    "## Model to test"
   ]
  },
  {
   "cell_type": "code",
   "execution_count": 51,
   "id": "9a960cbc-a3b6-421a-8694-4da5463950ec",
   "metadata": {
    "tags": []
   },
   "outputs": [],
   "source": [
    "# model to test\n",
    "\n",
    "sim_options = {\n",
    "    'name': 'cosine',\n",
    "    'user_based': True\n",
    "}\n",
    "\n",
    "knn = KNNBasic(sim_options=sim_options)"
   ]
  },
  {
   "cell_type": "code",
   "execution_count": 52,
   "id": "839cb8c2-6efc-4caa-a766-497c3d6e1c53",
   "metadata": {
    "tags": []
   },
   "outputs": [
    {
     "name": "stdout",
     "output_type": "stream",
     "text": [
      "Computing the cosine similarity matrix...\n",
      "Done computing similarity matrix.\n"
     ]
    },
    {
     "data": {
      "text/plain": [
       "<surprise.prediction_algorithms.knns.KNNBasic at 0x300c67f10>"
      ]
     },
     "execution_count": 52,
     "metadata": {},
     "output_type": "execute_result"
    }
   ],
   "source": [
    "# train\n",
    "knn.fit(trainset)"
   ]
  },
  {
   "cell_type": "code",
   "execution_count": 53,
   "id": "cc281375-b924-44f7-a8da-9347276055a6",
   "metadata": {
    "tags": []
   },
   "outputs": [],
   "source": [
    "# predictions\n",
    "predictions = knn.test(testset)"
   ]
  },
  {
   "cell_type": "code",
   "execution_count": 54,
   "id": "fb5b2dc1-6183-4655-a090-49517b465d2a",
   "metadata": {
    "tags": []
   },
   "outputs": [
    {
     "data": {
      "text/plain": [
       "[Prediction(uid=380, iid=2085, r_ui=3.0, est=3.5191062895722083, details={'actual_k': 30, 'was_impossible': False}),\n",
       " Prediction(uid=367, iid=513, r_ui=4.0, est=2.9999999999999996, details={'actual_k': 2, 'was_impossible': False}),\n",
       " Prediction(uid=570, iid=349, r_ui=4.0, est=3.7123899526005637, details={'actual_k': 40, 'was_impossible': False}),\n",
       " Prediction(uid=288, iid=2018, r_ui=3.0, est=3.391371971142089, details={'actual_k': 29, 'was_impossible': False}),\n",
       " Prediction(uid=446, iid=266, r_ui=2.0, est=3.4014122408648797, details={'actual_k': 40, 'was_impossible': False})]"
      ]
     },
     "execution_count": 54,
     "metadata": {},
     "output_type": "execute_result"
    }
   ],
   "source": [
    "# explore\n",
    "predictions[:5]"
   ]
  },
  {
   "cell_type": "code",
   "execution_count": 55,
   "id": "d3edff09-96ba-46f2-9b7b-18486b5fa88d",
   "metadata": {
    "tags": []
   },
   "outputs": [
    {
     "data": {
      "text/html": [
       "<div>\n",
       "<style scoped>\n",
       "    .dataframe tbody tr th:only-of-type {\n",
       "        vertical-align: middle;\n",
       "    }\n",
       "\n",
       "    .dataframe tbody tr th {\n",
       "        vertical-align: top;\n",
       "    }\n",
       "\n",
       "    .dataframe thead th {\n",
       "        text-align: right;\n",
       "    }\n",
       "</style>\n",
       "<table border=\"1\" class=\"dataframe\">\n",
       "  <thead>\n",
       "    <tr style=\"text-align: right;\">\n",
       "      <th></th>\n",
       "      <th>raw_user_id</th>\n",
       "      <th>raw_item_id</th>\n",
       "      <th>actual_user_rating</th>\n",
       "      <th>estimated_user_rating</th>\n",
       "      <th>details</th>\n",
       "    </tr>\n",
       "  </thead>\n",
       "  <tbody>\n",
       "    <tr>\n",
       "      <th>0</th>\n",
       "      <td>380</td>\n",
       "      <td>2085</td>\n",
       "      <td>3.0</td>\n",
       "      <td>3.519106</td>\n",
       "      <td>{'actual_k': 30, 'was_impossible': False}</td>\n",
       "    </tr>\n",
       "    <tr>\n",
       "      <th>1</th>\n",
       "      <td>367</td>\n",
       "      <td>513</td>\n",
       "      <td>4.0</td>\n",
       "      <td>3.000000</td>\n",
       "      <td>{'actual_k': 2, 'was_impossible': False}</td>\n",
       "    </tr>\n",
       "    <tr>\n",
       "      <th>2</th>\n",
       "      <td>570</td>\n",
       "      <td>349</td>\n",
       "      <td>4.0</td>\n",
       "      <td>3.712390</td>\n",
       "      <td>{'actual_k': 40, 'was_impossible': False}</td>\n",
       "    </tr>\n",
       "    <tr>\n",
       "      <th>3</th>\n",
       "      <td>288</td>\n",
       "      <td>2018</td>\n",
       "      <td>3.0</td>\n",
       "      <td>3.391372</td>\n",
       "      <td>{'actual_k': 29, 'was_impossible': False}</td>\n",
       "    </tr>\n",
       "    <tr>\n",
       "      <th>4</th>\n",
       "      <td>446</td>\n",
       "      <td>266</td>\n",
       "      <td>2.0</td>\n",
       "      <td>3.401412</td>\n",
       "      <td>{'actual_k': 40, 'was_impossible': False}</td>\n",
       "    </tr>\n",
       "  </tbody>\n",
       "</table>\n",
       "</div>"
      ],
      "text/plain": [
       "   raw_user_id  raw_item_id  actual_user_rating  estimated_user_rating  \\\n",
       "0          380         2085                 3.0               3.519106   \n",
       "1          367          513                 4.0               3.000000   \n",
       "2          570          349                 4.0               3.712390   \n",
       "3          288         2018                 3.0               3.391372   \n",
       "4          446          266                 2.0               3.401412   \n",
       "\n",
       "                                     details  \n",
       "0  {'actual_k': 30, 'was_impossible': False}  \n",
       "1   {'actual_k': 2, 'was_impossible': False}  \n",
       "2  {'actual_k': 40, 'was_impossible': False}  \n",
       "3  {'actual_k': 29, 'was_impossible': False}  \n",
       "4  {'actual_k': 40, 'was_impossible': False}  "
      ]
     },
     "execution_count": 55,
     "metadata": {},
     "output_type": "execute_result"
    }
   ],
   "source": [
    "predictions_df = pd.DataFrame(predictions, columns=[\"raw_user_id\", \"raw_item_id\", \"actual_user_rating\", \"estimated_user_rating\", \"details\"])\n",
    "predictions_df.head()"
   ]
  },
  {
   "cell_type": "code",
   "execution_count": 56,
   "id": "af0ad2b3-134f-4ca1-9425-4924bb69c6ee",
   "metadata": {
    "tags": []
   },
   "outputs": [
    {
     "name": "stdout",
     "output_type": "stream",
     "text": [
      "MAE:  0.7466\n"
     ]
    },
    {
     "data": {
      "text/plain": [
       "0.7465676186021254"
      ]
     },
     "execution_count": 56,
     "metadata": {},
     "output_type": "execute_result"
    }
   ],
   "source": [
    "# evaluation\n",
    "\n",
    "accuracy.mae(predictions)"
   ]
  },
  {
   "cell_type": "code",
   "execution_count": 57,
   "id": "45879bc2-5da0-4cd0-a970-eab849f253b4",
   "metadata": {
    "tags": []
   },
   "outputs": [
    {
     "name": "stdout",
     "output_type": "stream",
     "text": [
      "RMSE: 0.9706\n"
     ]
    },
    {
     "data": {
      "text/plain": [
       "0.9706404973871133"
      ]
     },
     "execution_count": 57,
     "metadata": {},
     "output_type": "execute_result"
    }
   ],
   "source": [
    "accuracy.rmse(predictions)"
   ]
  },
  {
   "cell_type": "code",
   "execution_count": 58,
   "id": "88dca2d7-2427-459d-8787-8e7293c74214",
   "metadata": {
    "tags": []
   },
   "outputs": [
    {
     "name": "stdout",
     "output_type": "stream",
     "text": [
      "FCP:  0.6685\n"
     ]
    },
    {
     "data": {
      "text/plain": [
       "0.6684847446082518"
      ]
     },
     "execution_count": 58,
     "metadata": {},
     "output_type": "execute_result"
    }
   ],
   "source": [
    "accuracy.fcp(predictions)"
   ]
  },
  {
   "cell_type": "code",
   "execution_count": 59,
   "id": "2a45afa9-64b4-4401-8ed1-5e4f4d3ec681",
   "metadata": {
    "tags": []
   },
   "outputs": [
    {
     "data": {
      "image/png": "[encoded data removed]",
      "text/plain": [
       "<Figure size 1000x800 with 1 Axes>"
      ]
     },
     "metadata": {},
     "output_type": "display_data"
    }
   ],
   "source": [
    "predictions_df[\"difference\"] = predictions_df[\"actual_user_rating\"] - predictions_df[\"estimated_user_rating\"]\n",
    "\n",
    "predictions_df[\"difference\"].hist(bins=30,\n",
    "                                  figsize=(10, 8));"
   ]
  },
  {
   "cell_type": "code",
   "execution_count": 60,
   "id": "ff1a22c2-c8e6-4eda-a765-4a14995eb503",
   "metadata": {
    "tags": []
   },
   "outputs": [
    {
     "data": {
      "image/png": "[encoded data removed]",
      "text/plain": [
       "<Figure size 1000x800 with 1 Axes>"
      ]
     },
     "metadata": {},
     "output_type": "display_data"
    }
   ],
   "source": [
    "# boxplot of errors\n",
    "\n",
    "predictions_df.plot(kind='box',\n",
    "                    column='estimated_user_rating',\n",
    "                    by='actual_user_rating',\n",
    "                    figsize=(10, 8));"
   ]
  },
  {
   "cell_type": "code",
   "execution_count": 61,
   "id": "9ae8bd9c-e728-47a7-86c2-3079c50262e2",
   "metadata": {
    "tags": []
   },
   "outputs": [
    {
     "data": {
      "text/plain": [
       "<Axes: >"
      ]
     },
     "execution_count": 61,
     "metadata": {},
     "output_type": "execute_result"
    },
    {
     "data": {
      "image/png": "[encoded data removed]",
      "text/plain": [
       "<Figure size 640x480 with 1 Axes>"
      ]
     },
     "metadata": {},
     "output_type": "display_data"
    }
   ],
   "source": [
    "ratings_df.rating.hist()"
   ]
  },
  {
   "cell_type": "code",
   "execution_count": 62,
   "id": "30059bba-d12e-4025-a257-3058bde14c9e",
   "metadata": {
    "tags": []
   },
   "outputs": [
    {
     "data": {
      "text/plain": [
       "3.501556983616962"
      ]
     },
     "execution_count": 62,
     "metadata": {},
     "output_type": "execute_result"
    }
   ],
   "source": [
    "ratings_df.rating.mean()"
   ]
  },
  {
   "cell_type": "markdown",
   "id": "e4ef93ad-3045-4fe2-b32d-de8c31c0bd91",
   "metadata": {},
   "source": [
    "## Model to use"
   ]
  },
  {
   "cell_type": "markdown",
   "id": "2f2bb1ba-6199-422e-a6df-3ff5ad2b9a85",
   "metadata": {},
   "source": [
    "Our objective is to **generate predictions for items that the user has not yet rated**, leveraging the patterns observed from the items they have rated. To achieve this, we utilise the **build_full_trainset()** method. This method constructs a comprehensive training set encompassing all user-item ratings."
   ]
  },
  {
   "cell_type": "code",
   "execution_count": 63,
   "id": "80879899-ac0b-481a-9ad4-5933c35c2123",
   "metadata": {
    "tags": []
   },
   "outputs": [
    {
     "name": "stdout",
     "output_type": "stream",
     "text": [
      "Computing the cosine similarity matrix...\n",
      "Done computing similarity matrix.\n"
     ]
    },
    {
     "data": {
      "text/plain": [
       "<surprise.prediction_algorithms.knns.KNNBasic at 0x3022d53d0>"
      ]
     },
     "execution_count": 63,
     "metadata": {},
     "output_type": "execute_result"
    }
   ],
   "source": [
    "sim_options = {\n",
    "    'name': 'cosine',\n",
    "    'user_based': True\n",
    "}\n",
    "\n",
    "# craete full train set\n",
    "full_train = data.build_full_trainset()\n",
    "algo = KNNBasic(sim_options=sim_options)\n",
    "algo.fit(full_train)"
   ]
  },
  {
   "cell_type": "markdown",
   "id": "b3ef4e9b-4e26-4d27-9738-3d5bce59e709",
   "metadata": {},
   "source": [
    "When using build_full_trainset, we pair it with build_anti_testset(). This method creates a test set for predicting items that users haven't rated yet. It simulates scenarios where the recommendation system suggests new items to users."
   ]
  },
  {
   "cell_type": "code",
   "execution_count": 64,
   "id": "164a463c-007e-455b-b7fd-9a0282d4e96d",
   "metadata": {
    "tags": []
   },
   "outputs": [],
   "source": [
    "# create full test set\n",
    "full_testset = full_train.build_anti_testset()\n",
    "\n",
    "# make predictions for full test set\n",
    "predictions = algo.test(full_testset)"
   ]
  },
  {
   "cell_type": "code",
   "execution_count": 65,
   "id": "b0e972ed-29ab-4232-865c-d67d9c9ca110",
   "metadata": {
    "tags": []
   },
   "outputs": [
    {
     "data": {
      "text/plain": [
       "[Prediction(uid=1, iid=318, r_ui=3.501556983616962, est=4.661919717891216, details={'actual_k': 40, 'was_impossible': False}),\n",
       " Prediction(uid=1, iid=1704, r_ui=3.501556983616962, est=4.312341769109607, details={'actual_k': 40, 'was_impossible': False}),\n",
       " Prediction(uid=1, iid=6874, r_ui=3.501556983616962, est=4.037832458711413, details={'actual_k': 40, 'was_impossible': False}),\n",
       " Prediction(uid=1, iid=8798, r_ui=3.501556983616962, est=3.8254415343069, details={'actual_k': 40, 'was_impossible': False}),\n",
       " Prediction(uid=1, iid=46970, r_ui=3.501556983616962, est=3.24878872930711, details={'actual_k': 28, 'was_impossible': False})]"
      ]
     },
     "execution_count": 65,
     "metadata": {},
     "output_type": "execute_result"
    }
   ],
   "source": [
    "predictions[:5]"
   ]
  },
  {
   "cell_type": "code",
   "execution_count": 66,
   "id": "351f437f-95a4-4f94-bcb4-9b87873c5423",
   "metadata": {
    "tags": []
   },
   "outputs": [
    {
     "data": {
      "text/plain": [
       "5830804"
      ]
     },
     "execution_count": 66,
     "metadata": {},
     "output_type": "execute_result"
    }
   ],
   "source": [
    "len(predictions)"
   ]
  },
  {
   "cell_type": "markdown",
   "id": "b144f909-aa2d-40c5-859a-c30391f8ff21",
   "metadata": {},
   "source": [
    "### Function : Top n predictions for specific user"
   ]
  },
  {
   "cell_type": "code",
   "execution_count": 67,
   "id": "50973c84-41ea-46b3-9dce-430249e6f0aa",
   "metadata": {
    "tags": []
   },
   "outputs": [],
   "source": [
    "def get_top_n(predictions, user_id, n=10):\n",
    "\n",
    "  user_recommendations = []\n",
    "\n",
    "  # Iterate through each prediction tuple\n",
    "  for uid, iid, true_r, est, _ in predictions:\n",
    "    # Check if the user ID matches the target user\n",
    "    if user_id == uid:\n",
    "      # Append item_id and estimated_rating to the user_recommendations list\n",
    "      user_recommendations.append((iid, est))\n",
    "    else:\n",
    "      # Skip to the next prediction if user ID doesn't match\n",
    "      continue\n",
    "\n",
    "  # Sort the user_recommendations list based on estimated_rating in descending order\n",
    "  ordered_recommendations = sorted(user_recommendations, key=lambda x: x[1], reverse=True)\n",
    "\n",
    "  # Get the top n predictions from the ordered_recommendations\n",
    "  ordered_recommendations_top_n = ordered_recommendations[:n]\n",
    "\n",
    "  return ordered_recommendations_top_n"
   ]
  },
  {
   "cell_type": "code",
   "execution_count": 68,
   "id": "2d38f371-8ed4-4e1c-9d9f-1beb50aa8c16",
   "metadata": {
    "tags": []
   },
   "outputs": [
    {
     "data": {
      "text/plain": [
       "[(131724, 5),\n",
       " (5746, 5),\n",
       " (6835, 5),\n",
       " (3851, 5),\n",
       " (1151, 5),\n",
       " (1631, 5),\n",
       " (2075, 5),\n",
       " (176601, 5),\n",
       " (92494, 5),\n",
       " (102217, 5)]"
      ]
     },
     "execution_count": 68,
     "metadata": {},
     "output_type": "execute_result"
    }
   ],
   "source": [
    "user_id = 1\n",
    "n = 10\n",
    "\n",
    "top_n = get_top_n(predictions, user_id, n)\n",
    "top_n"
   ]
  },
  {
   "cell_type": "code",
   "execution_count": 69,
   "id": "7650b210-ff1d-4b2e-a5ac-144d10da14b3",
   "metadata": {
    "tags": []
   },
   "outputs": [
    {
     "data": {
      "text/html": [
       "<div>\n",
       "<style scoped>\n",
       "    .dataframe tbody tr th:only-of-type {\n",
       "        vertical-align: middle;\n",
       "    }\n",
       "\n",
       "    .dataframe tbody tr th {\n",
       "        vertical-align: top;\n",
       "    }\n",
       "\n",
       "    .dataframe thead th {\n",
       "        text-align: right;\n",
       "    }\n",
       "</style>\n",
       "<table border=\"1\" class=\"dataframe\">\n",
       "  <thead>\n",
       "    <tr style=\"text-align: right;\">\n",
       "      <th></th>\n",
       "      <th>movieId</th>\n",
       "      <th>title</th>\n",
       "      <th>genres</th>\n",
       "      <th>estimated_rating</th>\n",
       "    </tr>\n",
       "  </thead>\n",
       "  <tbody>\n",
       "    <tr>\n",
       "      <th>0</th>\n",
       "      <td>131724</td>\n",
       "      <td>The Jinx: The Life and Deaths of Robert Durst ...</td>\n",
       "      <td>Documentary</td>\n",
       "      <td>5</td>\n",
       "    </tr>\n",
       "    <tr>\n",
       "      <th>1</th>\n",
       "      <td>5746</td>\n",
       "      <td>Galaxy of Terror (Quest) (1981)</td>\n",
       "      <td>Action|Horror|Mystery|Sci-Fi</td>\n",
       "      <td>5</td>\n",
       "    </tr>\n",
       "    <tr>\n",
       "      <th>2</th>\n",
       "      <td>6835</td>\n",
       "      <td>Alien Contamination (1980)</td>\n",
       "      <td>Action|Horror|Sci-Fi</td>\n",
       "      <td>5</td>\n",
       "    </tr>\n",
       "    <tr>\n",
       "      <th>3</th>\n",
       "      <td>3851</td>\n",
       "      <td>I'm the One That I Want (2000)</td>\n",
       "      <td>Comedy</td>\n",
       "      <td>5</td>\n",
       "    </tr>\n",
       "    <tr>\n",
       "      <th>4</th>\n",
       "      <td>1151</td>\n",
       "      <td>Lesson Faust (1994)</td>\n",
       "      <td>Animation|Comedy|Drama|Fantasy</td>\n",
       "      <td>5</td>\n",
       "    </tr>\n",
       "    <tr>\n",
       "      <th>5</th>\n",
       "      <td>1631</td>\n",
       "      <td>Assignment, The (1997)</td>\n",
       "      <td>Action|Thriller</td>\n",
       "      <td>5</td>\n",
       "    </tr>\n",
       "    <tr>\n",
       "      <th>6</th>\n",
       "      <td>2075</td>\n",
       "      <td>Mephisto (1981)</td>\n",
       "      <td>Drama|War</td>\n",
       "      <td>5</td>\n",
       "    </tr>\n",
       "    <tr>\n",
       "      <th>7</th>\n",
       "      <td>176601</td>\n",
       "      <td>Black Mirror</td>\n",
       "      <td>(no genres listed)</td>\n",
       "      <td>5</td>\n",
       "    </tr>\n",
       "    <tr>\n",
       "      <th>8</th>\n",
       "      <td>92494</td>\n",
       "      <td>Dylan Moran: Monster (2004)</td>\n",
       "      <td>Comedy|Documentary</td>\n",
       "      <td>5</td>\n",
       "    </tr>\n",
       "    <tr>\n",
       "      <th>9</th>\n",
       "      <td>102217</td>\n",
       "      <td>Bill Hicks: Revelations (1993)</td>\n",
       "      <td>Comedy</td>\n",
       "      <td>5</td>\n",
       "    </tr>\n",
       "  </tbody>\n",
       "</table>\n",
       "</div>"
      ],
      "text/plain": [
       "   movieId                                              title  \\\n",
       "0   131724  The Jinx: The Life and Deaths of Robert Durst ...   \n",
       "1     5746                    Galaxy of Terror (Quest) (1981)   \n",
       "2     6835                         Alien Contamination (1980)   \n",
       "3     3851                     I'm the One That I Want (2000)   \n",
       "4     1151                                Lesson Faust (1994)   \n",
       "5     1631                             Assignment, The (1997)   \n",
       "6     2075                                    Mephisto (1981)   \n",
       "7   176601                                       Black Mirror   \n",
       "8    92494                        Dylan Moran: Monster (2004)   \n",
       "9   102217                     Bill Hicks: Revelations (1993)   \n",
       "\n",
       "                           genres  estimated_rating  \n",
       "0                     Documentary                 5  \n",
       "1    Action|Horror|Mystery|Sci-Fi                 5  \n",
       "2            Action|Horror|Sci-Fi                 5  \n",
       "3                          Comedy                 5  \n",
       "4  Animation|Comedy|Drama|Fantasy                 5  \n",
       "5                 Action|Thriller                 5  \n",
       "6                       Drama|War                 5  \n",
       "7              (no genres listed)                 5  \n",
       "8              Comedy|Documentary                 5  \n",
       "9                          Comedy                 5  "
      ]
     },
     "execution_count": 69,
     "metadata": {},
     "output_type": "execute_result"
    }
   ],
   "source": [
    "# get movie names\n",
    "\n",
    "\n",
    "# Creating a DataFrame from the top_n tuples with columns 'movieId' and 'estimated_rating'\n",
    "tuples_df = pd.DataFrame(top_n, columns=[\"movieId\", \"estimated_rating\"])\n",
    "\n",
    "# Creating a copy of the original DataFrame with duplicate 'movieId' entries removed\n",
    "reduced_df = ratings_df.drop_duplicates(subset='movieId').copy()\n",
    "\n",
    "# Merging the tuples_df with the reduced_df based on 'movieId', retaining only the matching rows\n",
    "tuples_df_expanded = tuples_df.merge(reduced_df, on=\"movieId\", how='left')\n",
    "\n",
    "# merge tuples_df_expanded with movies_df\n",
    "tuples_df_name = movies_df[['movieId','title','genres']].merge(tuples_df_expanded[['movieId','estimated_rating']], how='right')\n",
    "\n",
    "# Selecting specific columns from the merged DataFrame to include in the final result\n",
    "tuples_df_name = tuples_df_name[['movieId', 'title', 'genres','estimated_rating']]\n",
    "\n",
    "# Displaying the expanded DataFrame with relevant book information\n",
    "tuples_df_name"
   ]
  },
  {
   "cell_type": "markdown",
   "id": "c882b244-5865-41c5-9a35-4fa81d66af23",
   "metadata": {},
   "source": [
    "## Function : Top movies with name: recommend to specific user"
   ]
  },
  {
   "cell_type": "code",
   "execution_count": 75,
   "id": "4efae75a-5989-4794-8afd-900ad0da3e54",
   "metadata": {
    "tags": []
   },
   "outputs": [],
   "source": [
    "def top_n_user_based(predictions, user_id, n=10):\n",
    "\n",
    "    user_recommendations = []\n",
    "\n",
    "    # Iterate through each prediction tuple\n",
    "    for uid, iid, true_r, est, _ in predictions:\n",
    "        # Check if the user ID matches the target user\n",
    "        if user_id == uid:\n",
    "          # Append item_id and estimated_rating to the user_recommendations list\n",
    "          user_recommendations.append((iid, est))\n",
    "        else:\n",
    "          # Skip to the next prediction if user ID doesn't match\n",
    "          continue\n",
    "\n",
    "    # Sort the user_recommendations list based on estimated_rating in descending order\n",
    "    ordered_recommendations = sorted(user_recommendations, key=lambda x: x[1], reverse=True)\n",
    "\n",
    "    # Get the top n predictions from the ordered_recommendations\n",
    "    top_n = ordered_recommendations[:n]\n",
    "\n",
    "    # Creating a DataFrame from the top_n tuples with columns 'movieId' and 'estimated_rating'\n",
    "    tuples_df = pd.DataFrame(top_n, columns=[\"movieId\", \"estimated_rating\"])\n",
    "\n",
    "    # Creating a copy of the original DataFrame with duplicate 'movieId' entries removed\n",
    "    reduced_df = ratings_df.drop_duplicates(subset='movieId').copy()\n",
    "\n",
    "    # Merging the tuples_df with the reduced_df based on 'movieId', retaining only the matching rows\n",
    "    tuples_df_expanded = tuples_df.merge(reduced_df, on=\"movieId\", how='left')\n",
    "\n",
    "    # merge tuples_df_expanded with movies_df\n",
    "    tuples_df_name = movies_df[['movieId','title','genres']].merge(tuples_df_expanded[['movieId','estimated_rating']], how='right')\n",
    "\n",
    "    # Selecting specific columns from the merged DataFrame to include in the final result\n",
    "    df_top_n = tuples_df_name[['movieId', 'title', 'genres']]\n",
    "\n",
    "    # Displaying the expanded DataFrame with relevant book information\n",
    "    df_top_n    \n",
    "\n",
    "    return df_top_n"
   ]
  },
  {
   "cell_type": "code",
   "execution_count": 76,
   "id": "ead4ba99-2933-4124-995c-3babb372f836",
   "metadata": {
    "tags": []
   },
   "outputs": [
    {
     "data": {
      "text/html": [
       "<div>\n",
       "<style scoped>\n",
       "    .dataframe tbody tr th:only-of-type {\n",
       "        vertical-align: middle;\n",
       "    }\n",
       "\n",
       "    .dataframe tbody tr th {\n",
       "        vertical-align: top;\n",
       "    }\n",
       "\n",
       "    .dataframe thead th {\n",
       "        text-align: right;\n",
       "    }\n",
       "</style>\n",
       "<table border=\"1\" class=\"dataframe\">\n",
       "  <thead>\n",
       "    <tr style=\"text-align: right;\">\n",
       "      <th></th>\n",
       "      <th>movieId</th>\n",
       "      <th>title</th>\n",
       "      <th>genres</th>\n",
       "    </tr>\n",
       "  </thead>\n",
       "  <tbody>\n",
       "    <tr>\n",
       "      <th>0</th>\n",
       "      <td>131724</td>\n",
       "      <td>The Jinx: The Life and Deaths of Robert Durst ...</td>\n",
       "      <td>Documentary</td>\n",
       "    </tr>\n",
       "    <tr>\n",
       "      <th>1</th>\n",
       "      <td>5746</td>\n",
       "      <td>Galaxy of Terror (Quest) (1981)</td>\n",
       "      <td>Action|Horror|Mystery|Sci-Fi</td>\n",
       "    </tr>\n",
       "    <tr>\n",
       "      <th>2</th>\n",
       "      <td>6835</td>\n",
       "      <td>Alien Contamination (1980)</td>\n",
       "      <td>Action|Horror|Sci-Fi</td>\n",
       "    </tr>\n",
       "    <tr>\n",
       "      <th>3</th>\n",
       "      <td>3851</td>\n",
       "      <td>I'm the One That I Want (2000)</td>\n",
       "      <td>Comedy</td>\n",
       "    </tr>\n",
       "    <tr>\n",
       "      <th>4</th>\n",
       "      <td>1151</td>\n",
       "      <td>Lesson Faust (1994)</td>\n",
       "      <td>Animation|Comedy|Drama|Fantasy</td>\n",
       "    </tr>\n",
       "  </tbody>\n",
       "</table>\n",
       "</div>"
      ],
      "text/plain": [
       "   movieId                                              title  \\\n",
       "0   131724  The Jinx: The Life and Deaths of Robert Durst ...   \n",
       "1     5746                    Galaxy of Terror (Quest) (1981)   \n",
       "2     6835                         Alien Contamination (1980)   \n",
       "3     3851                     I'm the One That I Want (2000)   \n",
       "4     1151                                Lesson Faust (1994)   \n",
       "\n",
       "                           genres  \n",
       "0                     Documentary  \n",
       "1    Action|Horror|Mystery|Sci-Fi  \n",
       "2            Action|Horror|Sci-Fi  \n",
       "3                          Comedy  \n",
       "4  Animation|Comedy|Drama|Fantasy  "
      ]
     },
     "execution_count": 76,
     "metadata": {},
     "output_type": "execute_result"
    }
   ],
   "source": [
    "top_n_user_based(predictions, user_id=1,n=5) "
   ]
  },
  {
   "cell_type": "code",
   "execution_count": 77,
   "id": "4ab2ed8b-a1af-4107-a01f-5bc67002a8b7",
   "metadata": {
    "tags": []
   },
   "outputs": [
    {
     "data": {
      "text/html": [
       "<div>\n",
       "<style scoped>\n",
       "    .dataframe tbody tr th:only-of-type {\n",
       "        vertical-align: middle;\n",
       "    }\n",
       "\n",
       "    .dataframe tbody tr th {\n",
       "        vertical-align: top;\n",
       "    }\n",
       "\n",
       "    .dataframe thead th {\n",
       "        text-align: right;\n",
       "    }\n",
       "</style>\n",
       "<table border=\"1\" class=\"dataframe\">\n",
       "  <thead>\n",
       "    <tr style=\"text-align: right;\">\n",
       "      <th></th>\n",
       "      <th>movieId</th>\n",
       "      <th>title</th>\n",
       "      <th>genres</th>\n",
       "    </tr>\n",
       "  </thead>\n",
       "  <tbody>\n",
       "    <tr>\n",
       "      <th>0</th>\n",
       "      <td>685</td>\n",
       "      <td>It's My Party (1996)</td>\n",
       "      <td>Drama</td>\n",
       "    </tr>\n",
       "    <tr>\n",
       "      <th>1</th>\n",
       "      <td>8235</td>\n",
       "      <td>Safety Last! (1923)</td>\n",
       "      <td>Action|Comedy|Romance</td>\n",
       "    </tr>\n",
       "    <tr>\n",
       "      <th>2</th>\n",
       "      <td>26326</td>\n",
       "      <td>Holy Mountain, The (Montaña sagrada, La) (1973)</td>\n",
       "      <td>Drama</td>\n",
       "    </tr>\n",
       "    <tr>\n",
       "      <th>3</th>\n",
       "      <td>96606</td>\n",
       "      <td>Samsara (2011)</td>\n",
       "      <td>Documentary</td>\n",
       "    </tr>\n",
       "    <tr>\n",
       "      <th>4</th>\n",
       "      <td>1151</td>\n",
       "      <td>Lesson Faust (1994)</td>\n",
       "      <td>Animation|Comedy|Drama|Fantasy</td>\n",
       "    </tr>\n",
       "  </tbody>\n",
       "</table>\n",
       "</div>"
      ],
      "text/plain": [
       "   movieId                                            title  \\\n",
       "0      685                             It's My Party (1996)   \n",
       "1     8235                              Safety Last! (1923)   \n",
       "2    26326  Holy Mountain, The (Montaña sagrada, La) (1973)   \n",
       "3    96606                                   Samsara (2011)   \n",
       "4     1151                              Lesson Faust (1994)   \n",
       "\n",
       "                           genres  \n",
       "0                           Drama  \n",
       "1           Action|Comedy|Romance  \n",
       "2                           Drama  \n",
       "3                     Documentary  \n",
       "4  Animation|Comedy|Drama|Fantasy  "
      ]
     },
     "execution_count": 77,
     "metadata": {},
     "output_type": "execute_result"
    }
   ],
   "source": [
    "top_n_user_based(predictions, user_id=35,n=5) "
   ]
  },
  {
   "cell_type": "code",
   "execution_count": null,
   "id": "12b0b4a4-ea8a-4730-8ab8-928fc224a686",
   "metadata": {},
   "outputs": [],
   "source": []
  }
 ],
 "metadata": {
  "kernelspec": {
   "display_name": "Python 3 (ipykernel)",
   "language": "python",
   "name": "python3"
  },
  "language_info": {
   "codemirror_mode": {
    "name": "ipython",
    "version": 3
   },
   "file_extension": ".py",
   "mimetype": "text/x-python",
   "name": "python",
   "nbconvert_exporter": "python",
   "pygments_lexer": "ipython3",
   "version": "3.11.3"
  }
 },
 "nbformat": 4,
 "nbformat_minor": 5
}
