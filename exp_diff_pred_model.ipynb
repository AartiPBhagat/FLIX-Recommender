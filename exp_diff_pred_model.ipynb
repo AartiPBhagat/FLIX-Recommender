{
 "cells": [
  {
   "cell_type": "code",
   "execution_count": 1,
   "id": "78796643-ba4f-4dff-a034-5f3de98083bf",
   "metadata": {
    "tags": []
   },
   "outputs": [],
   "source": [
    "import pandas as pd"
   ]
  },
  {
   "cell_type": "code",
   "execution_count": 2,
   "id": "716e3ce3-f651-4cf4-82c4-efa1f53a886c",
   "metadata": {
    "tags": []
   },
   "outputs": [],
   "source": [
    "movies_df = pd.read_csv('data/movies.csv')\n",
    "ratings_df = pd.read_csv('data/ratings.csv')\n",
    "tags_df = pd.read_csv('data/tags.csv')\n",
    "links_df = pd.read_csv('data/links.csv')"
   ]
  },
  {
   "cell_type": "code",
   "execution_count": 3,
   "id": "0dcfeb85-88f0-47ff-8ab0-ded41cf7c202",
   "metadata": {
    "tags": []
   },
   "outputs": [],
   "source": [
    "from surprise import KNNBasic, KNNWithMeans, KNNWithZScore, KNNBaseline, SVD, NMF, SlopeOne, CoClustering\n",
    "from surprise.model_selection import train_test_split\n",
    "from surprise import Reader, Dataset, accuracy"
   ]
  },
  {
   "cell_type": "code",
   "execution_count": 4,
   "id": "b110593e-e06d-4437-951d-36ae81569adf",
   "metadata": {
    "tags": []
   },
   "outputs": [],
   "source": [
    "data = ratings_df[['userId', 'movieId', 'rating']]\n",
    "min_scale = ratings_df.rating.min()\n",
    "max_scale = ratings_df.rating.max()\n",
    "\n",
    "# load data into surprise dataset\n",
    "reader = Reader(rating_scale=(min_scale, max_scale))\n",
    "data = Dataset.load_from_df(data, reader)"
   ]
  },
  {
   "cell_type": "code",
   "execution_count": 5,
   "id": "a818fa8a-f7bc-421a-8c15-214da9efce3c",
   "metadata": {
    "tags": []
   },
   "outputs": [],
   "source": [
    "# split data\n",
    "trainset, testset = train_test_split(data, test_size=0.2, random_state=123)"
   ]
  },
  {
   "cell_type": "code",
   "execution_count": 6,
   "id": "92b6525a-4232-43a1-9dec-7b5520644d73",
   "metadata": {
    "tags": []
   },
   "outputs": [
    {
     "name": "stdout",
     "output_type": "stream",
     "text": [
      "Computing the msd similarity matrix...\n",
      "Done computing similarity matrix.\n",
      "Computing the msd similarity matrix...\n",
      "Done computing similarity matrix.\n",
      "Computing the msd similarity matrix...\n",
      "Done computing similarity matrix.\n",
      "Estimating biases using als...\n",
      "Computing the msd similarity matrix...\n",
      "Done computing similarity matrix.\n",
      "           Model       MAE      RMSE       FCP\n",
      "0       KNNBasic  0.722961  0.945738  0.678015\n",
      "1       SlopeOne  0.685771  0.898052  0.665431\n",
      "2            SVD  0.668687  0.871615  0.665716\n",
      "3            NMF  0.705711  0.919496  0.656933\n",
      "4   KNNWithMeans  0.681930  0.894327  0.655998\n",
      "5  KNNWithZScore  0.676957  0.894385  0.655771\n",
      "6    KNNBaseline  0.664862  0.871826  0.680364\n",
      "7   CoClustering  0.729185  0.939416  0.647089\n"
     ]
    }
   ],
   "source": [
    "# List of model - check performance\n",
    "algorithms = [KNNBasic, SlopeOne, SVD, NMF, KNNWithMeans, KNNWithZScore, KNNBaseline, CoClustering]\n",
    "\n",
    "results = []\n",
    "\n",
    "# Train and matrices for each model\n",
    "for algo in algorithms:\n",
    "    model = algo()\n",
    "    model.fit(trainset)\n",
    "    predictions = model.test(testset)\n",
    "    \n",
    "    mae = accuracy.mae(predictions, verbose=False)\n",
    "    rmse = accuracy.rmse(predictions, verbose=False)\n",
    "    fcp = accuracy.fcp(predictions, verbose=False)\n",
    "    \n",
    "    results.append({\n",
    "        'Model': algo.__name__,\n",
    "        'MAE': mae,\n",
    "        'RMSE': rmse,\n",
    "        'FCP': fcp\n",
    "    })\n",
    "\n",
    "# Convert results to DataFrame\n",
    "results_df = pd.DataFrame(results)\n",
    "print(results_df)"
   ]
  },
  {
   "cell_type": "markdown",
   "id": "773ae188-e2a3-4ed9-af13-b1d0c88112f0",
   "metadata": {},
   "source": [
    "## KNNBaseline"
   ]
  },
  {
   "cell_type": "code",
   "execution_count": 7,
   "id": "2388b3af-9ff6-4fde-93c9-0b94eeedeec0",
   "metadata": {
    "tags": []
   },
   "outputs": [
    {
     "data": {
      "text/plain": [
       "<surprise.prediction_algorithms.matrix_factorization.SVD at 0x15c111990>"
      ]
     },
     "execution_count": 7,
     "metadata": {},
     "output_type": "execute_result"
    }
   ],
   "source": [
    "full_train = data.build_full_trainset()\n",
    "algo = SVD()\n",
    "algo.fit(full_train)"
   ]
  },
  {
   "cell_type": "code",
   "execution_count": 8,
   "id": "76fe165d-1a33-4b14-b226-b422e7a6db9b",
   "metadata": {
    "tags": []
   },
   "outputs": [],
   "source": [
    "full_testset = full_train.build_anti_testset()\n",
    "predictions = algo.test(full_testset)"
   ]
  },
  {
   "cell_type": "code",
   "execution_count": 9,
   "id": "4ef91906-a65b-4a89-ad15-505fcf7773c1",
   "metadata": {
    "tags": []
   },
   "outputs": [
    {
     "data": {
      "text/plain": [
       "0.37583577932049866"
      ]
     },
     "execution_count": 9,
     "metadata": {},
     "output_type": "execute_result"
    }
   ],
   "source": [
    "accuracy.mae(predictions, verbose=False)"
   ]
  },
  {
   "cell_type": "code",
   "execution_count": 10,
   "id": "5bf7c919-6f8a-4143-8802-3f710da27223",
   "metadata": {
    "tags": []
   },
   "outputs": [
    {
     "data": {
      "text/plain": [
       "0.4853174092152505"
      ]
     },
     "execution_count": 10,
     "metadata": {},
     "output_type": "execute_result"
    }
   ],
   "source": [
    "accuracy.rmse(predictions, verbose=False)"
   ]
  },
  {
   "cell_type": "code",
   "execution_count": 14,
   "id": "52840a3c-4817-49e7-b161-6bfbbf50d3d0",
   "metadata": {
    "tags": []
   },
   "outputs": [],
   "source": [
    "# take too long for output\n",
    "#accuracy.fcp(predictions)"
   ]
  }
 ],
 "metadata": {
  "kernelspec": {
   "display_name": "Python 3 (ipykernel)",
   "language": "python",
   "name": "python3"
  },
  "language_info": {
   "codemirror_mode": {
    "name": "ipython",
    "version": 3
   },
   "file_extension": ".py",
   "mimetype": "text/x-python",
   "name": "python",
   "nbconvert_exporter": "python",
   "pygments_lexer": "ipython3",
   "version": "3.11.3"
  }
 },
 "nbformat": 4,
 "nbformat_minor": 5
}
